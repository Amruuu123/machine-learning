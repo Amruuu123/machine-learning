{
 "cells": [
  {
   "cell_type": "code",
   "execution_count": 3,
   "id": "ae121086-9358-44a2-9dbd-56978d198b55",
   "metadata": {
    "scrolled": true
   },
   "outputs": [
    {
     "name": "stdout",
     "output_type": "stream",
     "text": [
      "Epoch 1/20, Train Loss: 0.1288, Val Loss: 0.1256\n",
      "✅ Model improved. Saved.\n",
      "Epoch 2/20, Train Loss: 0.0330, Val Loss: 0.0995\n",
      "✅ Model improved. Saved.\n",
      "Epoch 3/20, Train Loss: 0.0155, Val Loss: 0.9314\n",
      "Epoch 4/20, Train Loss: 0.0121, Val Loss: 0.1687\n",
      "Epoch 5/20, Train Loss: 0.0039, Val Loss: 0.2106\n",
      "⛔ Early stopping triggered.\n",
      "✅ Training complete.\n"
     ]
    }
   ],
   "source": [
    "import torch\n",
    "import torch.nn as nn\n",
    "import torch.optim as optim\n",
    "from torchvision import datasets, transforms, models\n",
    "from torch.utils.data import DataLoader\n",
    "import os\n",
    "\n",
    "# --- Configuration ---\n",
    "device = torch.device(\"cuda\" if torch.cuda.is_available() else \"cpu\")\n",
    "epochs = 20\n",
    "batch_size = 32\n",
    "learning_rate = 1e-4\n",
    "patience = 3  # early stopping\n",
    "\n",
    "# --- Dataset Paths (Update these paths to your local dataset) ---\n",
    "train_dir = \"chest_xray/train\"\n",
    "val_dir = \"chest_xray/val\"\n",
    "\n",
    "# --- Image Transforms ---\n",
    "transform = transforms.Compose([\n",
    "    transforms.Resize((224, 224)),\n",
    "    transforms.ToTensor(),\n",
    "    transforms.Normalize([0.5], [0.5])\n",
    "])\n",
    "\n",
    "train_dataset = datasets.ImageFolder(train_dir, transform=transform)\n",
    "val_dataset = datasets.ImageFolder(val_dir, transform=transform)\n",
    "\n",
    "train_loader = DataLoader(train_dataset, batch_size=batch_size, shuffle=True)\n",
    "val_loader = DataLoader(val_dataset, batch_size=batch_size, shuffle=False)\n",
    "\n",
    "# --- Bayesian-style ResNet18 ---\n",
    "class BayesianResNet18(nn.Module):\n",
    "    def __init__(self):\n",
    "        super(BayesianResNet18, self).__init__()\n",
    "        self.model = models.resnet18(pretrained=True)\n",
    "        num_features = self.model.fc.in_features\n",
    "        self.model.fc = nn.Sequential(\n",
    "            nn.Dropout(p=0.5),\n",
    "            nn.Linear(num_features, 1)  # Binary classification (Pneumonia or Not)\n",
    "        )\n",
    "\n",
    "    def forward(self, x):\n",
    "        return self.model(x)\n",
    "\n",
    "# --- Initialize model, loss, optimizer ---\n",
    "model = BayesianResNet18().to(device)\n",
    "criterion = nn.BCEWithLogitsLoss()\n",
    "optimizer = optim.Adam(model.parameters(), lr=learning_rate)\n",
    "\n",
    "# --- Early Stopping Setup ---\n",
    "best_val_loss = float(\"inf\")\n",
    "patience_counter = 0\n",
    "\n",
    "# --- Training Loop ---\n",
    "for epoch in range(epochs):\n",
    "    model.train()\n",
    "    train_loss = 0.0\n",
    "    for images, labels in train_loader:\n",
    "        images = images.to(device)\n",
    "        labels = labels.to(device).float().unsqueeze(1)\n",
    "\n",
    "        optimizer.zero_grad()\n",
    "        outputs = model(images)\n",
    "        loss = criterion(outputs, labels)\n",
    "        loss.backward()\n",
    "        optimizer.step()\n",
    "        train_loss += loss.item() * images.size(0)\n",
    "\n",
    "    train_loss /= len(train_loader.dataset)\n",
    "\n",
    "    # --- Validation Loop ---\n",
    "    model.eval()\n",
    "    val_loss = 0.0\n",
    "    with torch.no_grad():\n",
    "        for images, labels in val_loader:\n",
    "            images = images.to(device)\n",
    "            labels = labels.to(device).float().unsqueeze(1)\n",
    "            outputs = model(images)\n",
    "            loss = criterion(outputs, labels)\n",
    "            val_loss += loss.item() * images.size(0)\n",
    "\n",
    "    val_loss /= len(val_loader.dataset)\n",
    "\n",
    "    print(f\"Epoch {epoch+1}/{epochs}, Train Loss: {train_loss:.4f}, Val Loss: {val_loss:.4f}\")\n",
    "\n",
    "    # --- Check for Early Stopping ---\n",
    "    if val_loss < best_val_loss:\n",
    "        best_val_loss = val_loss\n",
    "        patience_counter = 0\n",
    "        torch.save(model.state_dict(), \"resnet18_pneumonia_bayesian.pth\")\n",
    "        print(\"✅ Model improved. Saved.\")\n",
    "    else:\n",
    "        patience_counter += 1\n",
    "        if patience_counter >= patience:\n",
    "            print(\"⛔ Early stopping triggered.\")\n",
    "            break\n",
    "\n",
    "print(\"✅ Training complete.\")\n"
   ]
  },
  {
   "cell_type": "code",
   "execution_count": 6,
   "id": "ce68aa74-b4f6-45e1-b7e7-61b954e8aff3",
   "metadata": {},
   "outputs": [
    {
     "name": "stdout",
     "output_type": "stream",
     "text": [
      "🖥️ Using device: cuda\n",
      "\n",
      "🔍 Testing config: {'batch_size': 16, 'epochs': 15, 'lr': 0.001}\n"
     ]
    },
    {
     "name": "stderr",
     "output_type": "stream",
     "text": [
      "Epoch 1/15: 100%|████████████████████████████████████████████████████████████████████| 326/326 [01:32<00:00,  3.53it/s]\n"
     ]
    },
    {
     "name": "stdout",
     "output_type": "stream",
     "text": [
      "📉 Train Loss: 181.4514, Val Loss: 1.1219\n",
      "✅ Model improved. Saved.\n"
     ]
    },
    {
     "name": "stderr",
     "output_type": "stream",
     "text": [
      "Epoch 2/15: 100%|████████████████████████████████████████████████████████████████████| 326/326 [01:30<00:00,  3.60it/s]\n"
     ]
    },
    {
     "name": "stdout",
     "output_type": "stream",
     "text": [
      "📉 Train Loss: 115.5021, Val Loss: 0.4934\n",
      "✅ Model improved. Saved.\n"
     ]
    },
    {
     "name": "stderr",
     "output_type": "stream",
     "text": [
      "Epoch 3/15: 100%|████████████████████████████████████████████████████████████████████| 326/326 [01:28<00:00,  3.68it/s]\n"
     ]
    },
    {
     "name": "stdout",
     "output_type": "stream",
     "text": [
      "📉 Train Loss: 98.9946, Val Loss: 0.5483\n"
     ]
    },
    {
     "name": "stderr",
     "output_type": "stream",
     "text": [
      "Epoch 4/15: 100%|████████████████████████████████████████████████████████████████████| 326/326 [01:29<00:00,  3.66it/s]\n"
     ]
    },
    {
     "name": "stdout",
     "output_type": "stream",
     "text": [
      "📉 Train Loss: 91.7112, Val Loss: 0.3462\n",
      "✅ Model improved. Saved.\n"
     ]
    },
    {
     "name": "stderr",
     "output_type": "stream",
     "text": [
      "Epoch 5/15: 100%|████████████████████████████████████████████████████████████████████| 326/326 [01:27<00:00,  3.72it/s]\n"
     ]
    },
    {
     "name": "stdout",
     "output_type": "stream",
     "text": [
      "📉 Train Loss: 81.2246, Val Loss: 1.7215\n"
     ]
    },
    {
     "name": "stderr",
     "output_type": "stream",
     "text": [
      "Epoch 6/15: 100%|████████████████████████████████████████████████████████████████████| 326/326 [01:28<00:00,  3.69it/s]\n"
     ]
    },
    {
     "name": "stdout",
     "output_type": "stream",
     "text": [
      "📉 Train Loss: 85.3930, Val Loss: 0.4075\n"
     ]
    },
    {
     "name": "stderr",
     "output_type": "stream",
     "text": [
      "Epoch 7/15: 100%|████████████████████████████████████████████████████████████████████| 326/326 [01:27<00:00,  3.72it/s]\n"
     ]
    },
    {
     "name": "stdout",
     "output_type": "stream",
     "text": [
      "📉 Train Loss: 77.1794, Val Loss: 0.3627\n",
      "⛔ Early stopping triggered.\n"
     ]
    },
    {
     "name": "stderr",
     "output_type": "stream",
     "text": [
      "C:\\Users\\mahia\\anaconda3\\Lib\\site-packages\\torchvision\\models\\_utils.py:208: UserWarning: The parameter 'pretrained' is deprecated since 0.13 and may be removed in the future, please use 'weights' instead.\n",
      "  warnings.warn(\n",
      "C:\\Users\\mahia\\anaconda3\\Lib\\site-packages\\torchvision\\models\\_utils.py:223: UserWarning: Arguments other than a weight enum or `None` for 'weights' are deprecated since 0.13 and may be removed in the future. The current behavior is equivalent to passing `weights=ResNet18_Weights.IMAGENET1K_V1`. You can also use `weights=ResNet18_Weights.DEFAULT` to get the most up-to-date weights.\n",
      "  warnings.warn(msg)\n"
     ]
    },
    {
     "name": "stdout",
     "output_type": "stream",
     "text": [
      "\n",
      "🎯 Test Accuracy: 82.53%\n",
      "\n",
      "📊 Confusion Matrix:\n",
      "[[133 101]\n",
      " [  8 382]]\n",
      "\n",
      "📋 Classification Report:\n",
      "              precision    recall  f1-score   support\n",
      "\n",
      "      NORMAL       0.94      0.57      0.71       234\n",
      "   PNEUMONIA       0.79      0.98      0.88       390\n",
      "\n",
      "    accuracy                           0.83       624\n",
      "   macro avg       0.87      0.77      0.79       624\n",
      "weighted avg       0.85      0.83      0.81       624\n",
      "\n",
      "\n",
      "🔍 Testing config: {'batch_size': 16, 'epochs': 15, 'lr': 0.0001}\n"
     ]
    },
    {
     "name": "stderr",
     "output_type": "stream",
     "text": [
      "Epoch 1/15: 100%|████████████████████████████████████████████████████████████████████| 326/326 [01:29<00:00,  3.66it/s]\n"
     ]
    },
    {
     "name": "stdout",
     "output_type": "stream",
     "text": [
      "📉 Train Loss: 311.4068, Val Loss: 0.9884\n",
      "✅ Model improved. Saved.\n"
     ]
    },
    {
     "name": "stderr",
     "output_type": "stream",
     "text": [
      "Epoch 2/15: 100%|████████████████████████████████████████████████████████████████████| 326/326 [01:27<00:00,  3.73it/s]\n"
     ]
    },
    {
     "name": "stdout",
     "output_type": "stream",
     "text": [
      "📉 Train Loss: 260.3637, Val Loss: 0.5672\n",
      "✅ Model improved. Saved.\n"
     ]
    },
    {
     "name": "stderr",
     "output_type": "stream",
     "text": [
      "Epoch 3/15: 100%|████████████████████████████████████████████████████████████████████| 326/326 [01:28<00:00,  3.68it/s]\n"
     ]
    },
    {
     "name": "stdout",
     "output_type": "stream",
     "text": [
      "📉 Train Loss: 205.8501, Val Loss: 1.4251\n"
     ]
    },
    {
     "name": "stderr",
     "output_type": "stream",
     "text": [
      "Epoch 4/15: 100%|████████████████████████████████████████████████████████████████████| 326/326 [01:29<00:00,  3.65it/s]\n"
     ]
    },
    {
     "name": "stdout",
     "output_type": "stream",
     "text": [
      "📉 Train Loss: 214.7630, Val Loss: 2.2157\n"
     ]
    },
    {
     "name": "stderr",
     "output_type": "stream",
     "text": [
      "Epoch 5/15: 100%|████████████████████████████████████████████████████████████████████| 326/326 [01:29<00:00,  3.64it/s]\n"
     ]
    },
    {
     "name": "stdout",
     "output_type": "stream",
     "text": [
      "📉 Train Loss: 179.6203, Val Loss: 1.5367\n",
      "⛔ Early stopping triggered.\n",
      "\n",
      "🎯 Test Accuracy: 66.99%\n",
      "\n",
      "📊 Confusion Matrix:\n",
      "[[ 62 172]\n",
      " [ 34 356]]\n",
      "\n",
      "📋 Classification Report:\n",
      "              precision    recall  f1-score   support\n",
      "\n",
      "      NORMAL       0.65      0.26      0.38       234\n",
      "   PNEUMONIA       0.67      0.91      0.78       390\n",
      "\n",
      "    accuracy                           0.67       624\n",
      "   macro avg       0.66      0.59      0.58       624\n",
      "weighted avg       0.66      0.67      0.63       624\n",
      "\n"
     ]
    }
   ],
   "source": [
    "import os\n",
    "import torch\n",
    "import torch.nn as nn\n",
    "import torch.optim as optim\n",
    "from torchvision import transforms, datasets, models\n",
    "from torch.utils.data import DataLoader\n",
    "import torchbnn as bnn\n",
    "from sklearn.metrics import confusion_matrix, classification_report\n",
    "from sklearn.model_selection import ParameterGrid\n",
    "from tqdm import tqdm\n",
    "import numpy as np\n",
    "\n",
    "# --- Device setup ---\n",
    "device = torch.device(\"cuda\" if torch.cuda.is_available() else \"cpu\")\n",
    "print(f\"🖥️ Using device: {device}\")\n",
    "\n",
    "# --- Early stopping helper ---\n",
    "class EarlyStopping:\n",
    "    def __init__(self, patience=3):\n",
    "        self.patience = patience\n",
    "        self.counter = 0\n",
    "        self.best_loss = float('inf')\n",
    "        self.early_stop = False\n",
    "\n",
    "    def __call__(self, val_loss):\n",
    "        if val_loss < self.best_loss:\n",
    "            self.best_loss = val_loss\n",
    "            self.counter = 0\n",
    "        else:\n",
    "            self.counter += 1\n",
    "            if self.counter >= self.patience:\n",
    "                self.early_stop = True\n",
    "\n",
    "# --- Bayesian ResNet Model ---\n",
    "class BayesianResNet(nn.Module):\n",
    "    def __init__(self):\n",
    "        super().__init__()\n",
    "        base_model = models.resnet18(pretrained=True)\n",
    "        for param in base_model.parameters():\n",
    "            param.requires_grad = False\n",
    "        self.feature = nn.Sequential(*list(base_model.children())[:-1])\n",
    "        self.fc = bnn.BayesLinear(prior_mu=0, prior_sigma=0.1, in_features=512, out_features=1)\n",
    "\n",
    "    def forward(self, x):\n",
    "        x = self.feature(x)\n",
    "        x = x.view(x.size(0), -1)\n",
    "        return torch.sigmoid(self.fc(x))\n",
    "\n",
    "# --- Transform and datasets ---\n",
    "transform = transforms.Compose([\n",
    "    transforms.Resize((224, 224)),\n",
    "    transforms.ToTensor()\n",
    "])\n",
    "\n",
    "train_dataset = datasets.ImageFolder(\"chest_xray/train\", transform=transform)\n",
    "val_dataset = datasets.ImageFolder(\"chest_xray/val\", transform=transform)\n",
    "test_dataset = datasets.ImageFolder(\"chest_xray/test\", transform=transform)\n",
    "\n",
    "# --- Hyperparameter grid ---\n",
    "param_grid = {\n",
    "    'lr': [1e-3, 1e-4],\n",
    "    'batch_size': [16],\n",
    "    'epochs': [15],\n",
    "}\n",
    "\n",
    "# --- Training function ---\n",
    "def train_model(hparams):\n",
    "    lr = hparams['lr']\n",
    "    batch_size = hparams['batch_size']\n",
    "    num_epochs = hparams['epochs']\n",
    "\n",
    "    print(f\"\\n🔍 Testing config: {hparams}\")\n",
    "\n",
    "    train_loader = DataLoader(train_dataset, batch_size=batch_size, shuffle=True)\n",
    "    val_loader = DataLoader(val_dataset, batch_size=batch_size)\n",
    "    test_loader = DataLoader(test_dataset, batch_size=batch_size)\n",
    "\n",
    "    model = BayesianResNet().to(device)\n",
    "    criterion = nn.BCELoss()\n",
    "    optimizer = optim.Adam(model.parameters(), lr=lr)\n",
    "\n",
    "    early_stopper = EarlyStopping(patience=3)\n",
    "    best_val_loss = float('inf')\n",
    "\n",
    "    for epoch in range(num_epochs):\n",
    "        model.train()\n",
    "        running_loss = 0\n",
    "        for images, labels in tqdm(train_loader, desc=f\"Epoch {epoch+1}/{num_epochs}\"):\n",
    "            images = images.to(device)\n",
    "            labels = labels.float().unsqueeze(1).to(device)\n",
    "\n",
    "            optimizer.zero_grad()\n",
    "            outputs = model(images)\n",
    "            loss = criterion(outputs, labels)\n",
    "            loss.backward()\n",
    "            optimizer.step()\n",
    "            running_loss += loss.item()\n",
    "\n",
    "        # Validation\n",
    "        model.eval()\n",
    "        val_loss = 0\n",
    "        with torch.no_grad():\n",
    "            for images, labels in val_loader:\n",
    "                images = images.to(device)\n",
    "                labels = labels.float().unsqueeze(1).to(device)\n",
    "                outputs = model(images)\n",
    "                loss = criterion(outputs, labels)\n",
    "                val_loss += loss.item()\n",
    "\n",
    "        print(f\"📉 Train Loss: {running_loss:.4f}, Val Loss: {val_loss:.4f}\")\n",
    "\n",
    "        if val_loss < best_val_loss:\n",
    "            best_val_loss = val_loss\n",
    "            torch.save(model.state_dict(), \"best_bayesian_model.pth\")\n",
    "            print(\"✅ Model improved. Saved.\")\n",
    "        \n",
    "        early_stopper(val_loss)\n",
    "        if early_stopper.early_stop:\n",
    "            print(\"⛔ Early stopping triggered.\")\n",
    "            break\n",
    "\n",
    "    # Load best model before testing\n",
    "    model.load_state_dict(torch.load(\"best_bayesian_model.pth\"))\n",
    "    model.eval()\n",
    "\n",
    "    # Test accuracy\n",
    "    correct, total = 0, 0\n",
    "    all_preds, all_labels = [], []\n",
    "    with torch.no_grad():\n",
    "        for images, labels in test_loader:\n",
    "            images = images.to(device)\n",
    "            labels = labels.to(device).float().unsqueeze(1)\n",
    "            outputs = model(images)\n",
    "            preds = (outputs > 0.5).float()\n",
    "            correct += (preds == labels).sum().item()\n",
    "            total += labels.size(0)\n",
    "            all_preds.extend(preds.cpu().numpy())\n",
    "            all_labels.extend(labels.cpu().numpy())\n",
    "\n",
    "    print(f\"\\n🎯 Test Accuracy: {100 * correct / total:.2f}%\")\n",
    "\n",
    "    # Confusion matrix and report\n",
    "    print(\"\\n📊 Confusion Matrix:\")\n",
    "    print(confusion_matrix(all_labels, all_preds))\n",
    "    print(\"\\n📋 Classification Report:\")\n",
    "    print(classification_report(all_labels, all_preds, target_names=[\"NORMAL\", \"PNEUMONIA\"]))\n",
    "\n",
    "# --- Run hyperparameter tuning ---\n",
    "for params in ParameterGrid(param_grid):\n",
    "    train_model(params)\n"
   ]
  },
  {
   "cell_type": "code",
   "execution_count": null,
   "id": "2d39e50b-1585-4726-abe6-5d3075ee1afd",
   "metadata": {},
   "outputs": [],
   "source": []
  }
 ],
 "metadata": {
  "kernelspec": {
   "display_name": "Python 3 (ipykernel)",
   "language": "python",
   "name": "python3"
  },
  "language_info": {
   "codemirror_mode": {
    "name": "ipython",
    "version": 3
   },
   "file_extension": ".py",
   "mimetype": "text/x-python",
   "name": "python",
   "nbconvert_exporter": "python",
   "pygments_lexer": "ipython3",
   "version": "3.11.7"
  }
 },
 "nbformat": 4,
 "nbformat_minor": 5
}
